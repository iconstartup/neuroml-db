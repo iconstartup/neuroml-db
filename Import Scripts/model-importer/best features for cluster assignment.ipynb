{
 "cells": [
  {
   "cell_type": "code",
   "execution_count": 1,
   "metadata": {},
   "outputs": [],
   "source": [
    "def names(cols):\n",
    "    prop_names = [\n",
    "        'AP1Amplitude',\n",
    "        'AP2Amplitude',\n",
    "        'AP12AmplitudeDrop',\n",
    "        'AP12AmplitudeChangePercent',\n",
    "        'AP1SSAmplitudeChange',  \n",
    "\n",
    "        'AP1WidthHalfHeight',\n",
    "        'AP2WidthHalfHeight',\n",
    "        'AP12HalfWidthChangePercent',\n",
    "\n",
    "        'AP1WidthPeakToTrough',\n",
    "        'AP2WidthPeakToTrough',\n",
    "\n",
    "        'AP1RateOfChangePeakToTrough',\n",
    "        'AP2RateOfChangePeakToTrough',    \n",
    "        'AP12RateOfChangePeakToTroughPercentChange',\n",
    "\n",
    "        'AP1AHPDepth',\n",
    "        'AP2AHPDepth',\n",
    "        'AP12AHPDepthPercentChange',\n",
    "\n",
    "        'AP1DelayMean',\n",
    "        'AP2DelayMean',\n",
    "\n",
    "        'AP1DelaySD',\n",
    "        'AP2DelaySD',\n",
    "\n",
    "        'AP1DelayMeanStrongStim',\n",
    "        'AP2DelayMeanStrongStim',\n",
    "\n",
    "        'AP1DelaySDStrongStim',\n",
    "        'AP2DelaySDStrongStim',\n",
    "\n",
    "        'Burst1ISIMean',\n",
    "        'Burst1ISIMeanStrongStim',\n",
    "\n",
    "        'Burst1ISISD',\n",
    "        'Burst1ISISDStrongStim',\n",
    "\n",
    "        'InitialAccommodationMean',\n",
    "        'SSAccommodationMean',\n",
    "        'AccommodationRateToSS',\n",
    "        'AccommodationAtSSMean',\n",
    "        'AccommodationRateMeanAtSS',\n",
    "\n",
    "\n",
    "        'ISIMedian',\n",
    "        'ISICV',\n",
    "        'ISIBurstMeanChange',\n",
    "\n",
    "        'SpikeRateStrongStim',\n",
    "\n",
    "        'InputResistance',\n",
    "\n",
    "        'SteadyStateAPs',\n",
    "    \n",
    "        'FFPassAbove',\n",
    "        'FFPassBelow',\n",
    "\n",
    "        'RampSpikes',\n",
    "    ]\n",
    "\n",
    "    import numpy as np\n",
    "\n",
    "    result = [i for i in np.array(prop_names)[np.nonzero(cols)]]\n",
    "    \n",
    "    return result"
   ]
  },
  {
   "cell_type": "code",
   "execution_count": 4,
   "metadata": {
    "scrolled": true
   },
   "outputs": [
    {
     "data": {
      "text/plain": [
       "['AP2Amplitude']"
      ]
     },
     "execution_count": 4,
     "metadata": {},
     "output_type": "execute_result"
    }
   ],
   "source": [
    "# for root cluster - to classify multi or single and passive spikers\n",
    "cols = [0, 1, 0, 0, 0, 0, 0, 0, 0, 0, 0, 0, 0, 0, 0, 0, 0, 0, 0, 0, 0, 0, 0, 0, 0, 0, 0, 0, 0, 0, 0, 0, 0, 0, 0, 0, 0, 0, 0, 0, 0, 0]\n",
    "names(cols)"
   ]
  },
  {
   "cell_type": "code",
   "execution_count": 6,
   "metadata": {},
   "outputs": [
    {
     "data": {
      "text/plain": [
       "['ISIBurstMeanChange', 'SpikeRateStrongStim']"
      ]
     },
     "execution_count": 6,
     "metadata": {},
     "output_type": "execute_result"
    }
   ],
   "source": [
    "# for multi spike 0 cluster - 0 sub cluster\n",
    "cols = [0, 0, 0, 0, 0, 0, 0, 0, 0, 0, 0, 0, 0, 0, 0, 0, 0, 0, 0, 0, 0, 0, 0, 0, 0, 0, 0, 0, 0, 0, 0, 0, 0, 0, 0, 1, 1, 0, 0, 0, 0, 0]\n",
    "names(cols)"
   ]
  },
  {
   "cell_type": "code",
   "execution_count": 7,
   "metadata": {},
   "outputs": [
    {
     "data": {
      "text/plain": [
       "['ISIBurstMeanChange', 'SpikeRateStrongStim']"
      ]
     },
     "execution_count": 7,
     "metadata": {},
     "output_type": "execute_result"
    }
   ],
   "source": [
    "# for multi spike 0 cluster - 1 sub cluster\n",
    "cols = [0, 0, 0, 0, 0, 0, 0, 0, 0, 0, 0, 0, 0, 0, 0, 0, 0, 0, 0, 0, 0, 0, 0, 0, 0, 0, 0, 0, 0, 0, 0, 0, 0, 0, 0, 1, 1, 0, 0, 0, 0, 0]\n",
    "names(cols)"
   ]
  },
  {
   "cell_type": "code",
   "execution_count": 15,
   "metadata": {},
   "outputs": [
    {
     "data": {
      "text/plain": [
       "['AP12AmplitudeDrop', 'AP2WidthHalfHeight', 'ISIMedian', 'SpikeRateStrongStim']"
      ]
     },
     "execution_count": 15,
     "metadata": {},
     "output_type": "execute_result"
    }
   ],
   "source": [
    "# for multi spike 1 cluster - 0 sub cluster\n",
    "cols = [0, 0, 1, 0, 0, 0, 1, 0, 0, 0, 0, 0, 0, 0, 0, 0, 0, 0, 0, 0, 0, 0, 0, 0, 0, 0, 0, 0, 0, 0, 0, 0, 0, 1, 0, 0, 1, 0, 0, 0, 0, 0]\n",
    "cols = [0, 0, 1, 0, 0, 0, 1, 0, 0, 0, 0, 0, 0, 0, 0, 0, 0, 0, 0, 0, 0, 0, 0, 0, 0, 0, 0, 0, 0, 0, 0, 0, 0, 1, 0, 0, 1, 0, 0, 0, 0, 0]\n",
    "names(cols)"
   ]
  },
  {
   "cell_type": "code",
   "execution_count": 14,
   "metadata": {},
   "outputs": [
    {
     "data": {
      "text/plain": [
       "['AP2AHPDepth', 'AP2DelayMeanStrongStim', 'AccommodationAtSSMean']"
      ]
     },
     "execution_count": 14,
     "metadata": {},
     "output_type": "execute_result"
    }
   ],
   "source": [
    "# for multi spike 1 cluster - 1 sub cluster\n",
    "cols = [0, 0, 0, 0, 0, 0, 0, 0, 0, 0, 0, 0, 0, 0, 1, 0, 0, 0, 0, 0, 0, 1, 0, 0, 0, 0, 0, 0, 0, 0, 0, 1, 0, 0, 0, 0, 0, 0, 0, 0, 0, 0]\n",
    "names(cols)"
   ]
  },
  {
   "cell_type": "code",
   "execution_count": null,
   "metadata": {},
   "outputs": [],
   "source": []
  }
 ],
 "metadata": {
  "kernelspec": {
   "display_name": "Python 2",
   "language": "python",
   "name": "python2"
  },
  "language_info": {
   "codemirror_mode": {
    "name": "ipython",
    "version": 2
   },
   "file_extension": ".py",
   "mimetype": "text/x-python",
   "name": "python",
   "nbconvert_exporter": "python",
   "pygments_lexer": "ipython2",
   "version": "2.7.14"
  }
 },
 "nbformat": 4,
 "nbformat_minor": 2
}
